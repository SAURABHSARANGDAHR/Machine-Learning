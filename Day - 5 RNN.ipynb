{
 "cells": [
  {
   "cell_type": "code",
   "execution_count": 6,
   "metadata": {},
   "outputs": [],
   "source": [
    "from keras.datasets import imdb\n",
    "from keras.preprocessing import sequence\n"
   ]
  },
  {
   "cell_type": "code",
   "execution_count": 7,
   "metadata": {},
   "outputs": [],
   "source": [
    "max_features=10000\n",
    "maxlen = 500"
   ]
  },
  {
   "cell_type": "code",
   "execution_count": 11,
   "metadata": {},
   "outputs": [],
   "source": [
    "(input_train, y_train), (input_test, y_test)= imdb.load_data(num_words=max_features)"
   ]
  },
  {
   "cell_type": "code",
   "execution_count": 12,
   "metadata": {},
   "outputs": [
    {
     "data": {
      "text/plain": [
       "((25000,), (25000,))"
      ]
     },
     "execution_count": 12,
     "metadata": {},
     "output_type": "execute_result"
    }
   ],
   "source": [
    "input_train.shape, y_train.shape"
   ]
  },
  {
   "cell_type": "code",
   "execution_count": 14,
   "metadata": {},
   "outputs": [],
   "source": [
    "X_train = sequence.pad_sequences(input_train, maxlen = maxlen)\n",
    "X_test = sequence.pad_sequences(input_test, maxlen = maxlen)"
   ]
  },
  {
   "cell_type": "code",
   "execution_count": 15,
   "metadata": {},
   "outputs": [
    {
     "data": {
      "text/plain": [
       "((25000, 500), (25000, 500))"
      ]
     },
     "execution_count": 15,
     "metadata": {},
     "output_type": "execute_result"
    }
   ],
   "source": [
    "X_train.shape, X_test.shape"
   ]
  },
  {
   "cell_type": "markdown",
   "metadata": {},
   "source": [
    "# RNN"
   ]
  },
  {
   "cell_type": "code",
   "execution_count": 16,
   "metadata": {},
   "outputs": [],
   "source": [
    "from keras.models import Sequential\n",
    "from keras.layers import Dense, Embedding, SimpleRNN"
   ]
  },
  {
   "cell_type": "code",
   "execution_count": 18,
   "metadata": {},
   "outputs": [],
   "source": [
    "model=Sequential()\n",
    "model.add(Embedding(max_features,32))\n",
    "model.add(SimpleRNN(32))\n",
    "model.add(Dense(1,activation='sigmoid'))"
   ]
  },
  {
   "cell_type": "code",
   "execution_count": 19,
   "metadata": {},
   "outputs": [
    {
     "name": "stdout",
     "output_type": "stream",
     "text": [
      "_________________________________________________________________\n",
      "Layer (type)                 Output Shape              Param #   \n",
      "=================================================================\n",
      "embedding_1 (Embedding)      (None, None, 32)          320000    \n",
      "_________________________________________________________________\n",
      "simple_rnn_1 (SimpleRNN)     (None, 32)                2080      \n",
      "_________________________________________________________________\n",
      "dense_1 (Dense)              (None, 1)                 33        \n",
      "=================================================================\n",
      "Total params: 322,113\n",
      "Trainable params: 322,113\n",
      "Non-trainable params: 0\n",
      "_________________________________________________________________\n"
     ]
    }
   ],
   "source": [
    "model.summary()"
   ]
  },
  {
   "cell_type": "code",
   "execution_count": 21,
   "metadata": {},
   "outputs": [],
   "source": [
    "model.compile(optimizer = 'rmsprop', loss= 'binary_crossentropy', metrics = [\"acc\"])"
   ]
  },
  {
   "cell_type": "code",
   "execution_count": 23,
   "metadata": {},
   "outputs": [
    {
     "name": "stdout",
     "output_type": "stream",
     "text": [
      "Train on 20000 samples, validate on 5000 samples\n",
      "Epoch 1/10\n",
      "20000/20000 [==============================] - 70s 4ms/step - loss: 0.6647 - acc: 0.5908 - val_loss: 0.6212 - val_acc: 0.6462\n",
      "Epoch 2/10\n",
      "20000/20000 [==============================] - 72s 4ms/step - loss: 0.4600 - acc: 0.7994 - val_loss: 0.5101 - val_acc: 0.7512\n",
      "Epoch 3/10\n",
      "20000/20000 [==============================] - 77s 4ms/step - loss: 0.3212 - acc: 0.8708 - val_loss: 0.3626 - val_acc: 0.8484\n",
      "Epoch 4/10\n",
      "20000/20000 [==============================] - 78s 4ms/step - loss: 0.2417 - acc: 0.9061 - val_loss: 0.5335 - val_acc: 0.7606\n",
      "Epoch 5/10\n",
      "20000/20000 [==============================] - 79s 4ms/step - loss: 0.1757 - acc: 0.9345 - val_loss: 0.4677 - val_acc: 0.8352\n",
      "Epoch 6/10\n",
      "20000/20000 [==============================] - 80s 4ms/step - loss: 0.1161 - acc: 0.9591 - val_loss: 0.4041 - val_acc: 0.8572\n",
      "Epoch 7/10\n",
      "20000/20000 [==============================] - 81s 4ms/step - loss: 0.0709 - acc: 0.9781 - val_loss: 0.5297 - val_acc: 0.7958\n",
      "Epoch 8/10\n",
      "20000/20000 [==============================] - 80s 4ms/step - loss: 0.0435 - acc: 0.9871 - val_loss: 0.5998 - val_acc: 0.7964\n",
      "Epoch 9/10\n",
      "20000/20000 [==============================] - 65s 3ms/step - loss: 0.0273 - acc: 0.9925 - val_loss: 0.7126 - val_acc: 0.7962\n",
      "Epoch 10/10\n",
      "20000/20000 [==============================] - 51s 3ms/step - loss: 0.0184 - acc: 0.9949 - val_loss: 0.6566 - val_acc: 0.8126\n"
     ]
    }
   ],
   "source": [
    "history= model.fit(X_train,y_train, epochs = 10, batch_size= 128, validation_split=0.2 )"
   ]
  },
  {
   "cell_type": "code",
   "execution_count": 24,
   "metadata": {},
   "outputs": [],
   "source": [
    "from keras.layers import LSTM"
   ]
  },
  {
   "cell_type": "code",
   "execution_count": 26,
   "metadata": {},
   "outputs": [],
   "source": [
    "model_lstm = Sequential()\n",
    "model_lstm.add(Embedding(max_features,32))\n",
    "model_lstm.add(LSTM(32))\n",
    "model_lstm.add(Dense(1, activation='sigmoid'))"
   ]
  },
  {
   "cell_type": "code",
   "execution_count": 27,
   "metadata": {},
   "outputs": [],
   "source": [
    "model.compile(optimizer='rmsprop', loss='binary_crossentropy', metrics=['acc'])"
   ]
  },
  {
   "cell_type": "code",
   "execution_count": 29,
   "metadata": {},
   "outputs": [
    {
     "name": "stdout",
     "output_type": "stream",
     "text": [
      "Train on 20000 samples, validate on 5000 samples\n",
      "Epoch 1/10\n",
      "20000/20000 [==============================] - 37s 2ms/step - loss: 0.0179 - acc: 0.9949 - val_loss: 0.8972 - val_acc: 0.7760\n",
      "Epoch 2/10\n",
      "20000/20000 [==============================] - 41s 2ms/step - loss: 0.0119 - acc: 0.9963 - val_loss: 0.7535 - val_acc: 0.8154\n",
      "Epoch 3/10\n",
      "20000/20000 [==============================] - 52s 3ms/step - loss: 0.0100 - acc: 0.9967 - val_loss: 0.7864 - val_acc: 0.8122\n",
      "Epoch 4/10\n",
      "20000/20000 [==============================] - 56s 3ms/step - loss: 0.0083 - acc: 0.9973 - val_loss: 0.8804 - val_acc: 0.7966\n",
      "Epoch 5/10\n",
      "20000/20000 [==============================] - 60s 3ms/step - loss: 0.0079 - acc: 0.9977 - val_loss: 0.9699 - val_acc: 0.7712\n",
      "Epoch 6/10\n",
      "20000/20000 [==============================] - 62s 3ms/step - loss: 0.0079 - acc: 0.9979 - val_loss: 0.9840 - val_acc: 0.7776\n",
      "Epoch 7/10\n",
      "20000/20000 [==============================] - 67s 3ms/step - loss: 0.0030 - acc: 0.9992 - val_loss: 0.9495 - val_acc: 0.7920\n",
      "Epoch 8/10\n",
      "20000/20000 [==============================] - 65s 3ms/step - loss: 0.0045 - acc: 0.9987 - val_loss: 0.9372 - val_acc: 0.8158\n",
      "Epoch 9/10\n",
      "20000/20000 [==============================] - 65s 3ms/step - loss: 0.0038 - acc: 0.9990 - val_loss: 1.0033 - val_acc: 0.7934\n",
      "Epoch 10/10\n",
      "20000/20000 [==============================] - 67s 3ms/step - loss: 0.0028 - acc: 0.9992 - val_loss: 1.0448 - val_acc: 0.7892\n"
     ]
    }
   ],
   "source": [
    "history= model.fit(X_train,y_train, epochs = 10, batch_size= 128, validation_split=0.2 )"
   ]
  },
  {
   "cell_type": "code",
   "execution_count": null,
   "metadata": {},
   "outputs": [],
   "source": []
  }
 ],
 "metadata": {
  "kernelspec": {
   "display_name": "Python 3",
   "language": "python",
   "name": "python3"
  },
  "language_info": {
   "codemirror_mode": {
    "name": "ipython",
    "version": 3
   },
   "file_extension": ".py",
   "mimetype": "text/x-python",
   "name": "python",
   "nbconvert_exporter": "python",
   "pygments_lexer": "ipython3",
   "version": "3.6.7"
  }
 },
 "nbformat": 4,
 "nbformat_minor": 2
}
